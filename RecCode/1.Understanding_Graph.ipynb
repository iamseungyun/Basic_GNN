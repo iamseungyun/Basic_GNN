{
 "cells": [
  {
   "cell_type": "code",
   "execution_count": null,
   "id": "22066774-0bee-4854-80b9-8bb41d4bdf3c",
   "metadata": {},
   "outputs": [],
   "source": []
  }
 ],
 "metadata": {
  "kernelspec": {
   "display_name": "",
   "name": ""
  },
  "language_info": {
   "name": ""
  }
 },
 "nbformat": 4,
 "nbformat_minor": 5
}
